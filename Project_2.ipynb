{
 "cells": [
  {
   "cell_type": "code",
   "execution_count": 2,
   "metadata": {
    "_cell_guid": "b1076dfc-b9ad-4769-8c92-a6c4dae69d19",
    "_uuid": "8f2839f25d086af736a60e9eeb907d3b93b6e0e5"
   },
   "outputs": [],
   "source": [
    "# This Python 3 environment comes with many helpful analytics libraries installed\n",
    "# It is defined by the kaggle/python Docker image: https://github.com/kaggle/docker-python\n",
    "# For example, here's several helpful packages to load\n",
    "\n",
    "\n",
    "# Input data files are available in the read-only \"../input/\" directory\n",
    "# For example, running this (by clicking run or pressing Shift+Enter) will list all files under the input directory\n",
    "\n",
    "import os\n",
    "\n",
    "for dirname, _, filenames in os.walk(\"./\"):\n",
    "    for filename in filenames:\n",
    "        print(os.path.join(dirname, filename))\n",
    "\n",
    "# You can write up to 20GB to the current directory (/kaggle/working/) that gets preserved as output when you create a version using \"Save & Run All\"\n",
    "# You can also write temporary files to /kaggle/temp/, but they won't be saved outside of the current session"
   ]
  },
  {
   "cell_type": "markdown",
   "metadata": {},
   "source": [
    "# 1. Frame the problem\n",
    "Using the customer description, Define the problem your trying to solve in your own words (remember this is not technial but must be specific so the customer understands the project"
   ]
  },
  {
   "cell_type": "code",
   "execution_count": 3,
   "metadata": {},
   "outputs": [],
   "source": [
    "import pandas as pd\n",
    "import time\n",
    "import matplotlib.pyplot as plt\n",
    "\n",
    "from sklearn import tree\n",
    "from sklearn.tree import DecisionTreeClassifier\n",
    "from sklearn.metrics import accuracy_score\n",
    "from sklearn.model_selection import train_test_split"
   ]
  },
  {
   "cell_type": "markdown",
   "metadata": {},
   "source": [
    "# 2. Get the Data \n",
    "Define how you recieved the data (provided, gathered..)"
   ]
  },
  {
   "cell_type": "markdown",
   "metadata": {},
   "source": [
    "Needed to update the data, removing columns with links, filtering for just the zip code on another column, and removing anything that isnt a number on the other columns."
   ]
  },
  {
   "cell_type": "code",
   "execution_count": 11,
   "metadata": {
    "scrolled": true
   },
   "outputs": [
    {
     "name": "stdout",
     "output_type": "stream",
     "text": [
      "2.0\n",
      "<class 'Exception'>\n",
      "<class 'Exception'>\n",
      "<class 'Exception'>\n",
      "<class 'Exception'>\n",
      "<class 'Exception'>\n",
      "<class 'Exception'>\n",
      "<class 'Exception'>\n",
      "<class 'Exception'>\n",
      "<class 'Exception'>\n",
      "<class 'Exception'>\n",
      "                                           detailUrl        price  \\\n",
      "0  https://www.zillow.com/community/cava/44942789...    $890,115+   \n",
      "1  https://www.zillow.com/homedetails/1025-N-12th...     $998,000   \n",
      "2  https://www.zillow.com/homedetails/1321-Fruitd...     $989,900   \n",
      "3  https://www.zillow.com/homedetails/486-Southwo...   $2,388,000   \n",
      "4  https://www.zillow.com/homedetails/381-Half-Mo...     $465,000   \n",
      "5  https://www.zillow.com/community/apricot-estat...  $1,400,000+   \n",
      "6  https://www.zillow.com/homedetails/341-Inverne...     $535,000   \n",
      "7  https://www.zillow.com/homedetails/26-Valerton...   $1,395,000   \n",
      "8  https://www.zillow.com/homedetails/630-Mason-S...     $649,000   \n",
      "9  https://www.zillow.com/homedetails/2197-Yellow...     $833,500   \n",
      "\n",
      "   hdpData.homeInfo.bathrooms  hdpData.homeInfo.bedrooms  \\\n",
      "0                         3.0                        2.0   \n",
      "1                         2.0                        4.0   \n",
      "2                         3.0                        3.0   \n",
      "3                         3.0                        3.0   \n",
      "4                         1.0                        1.0   \n",
      "5                         5.0                        5.0   \n",
      "6                         2.0                        3.0   \n",
      "7                         2.0                        3.0   \n",
      "8                         1.0                        1.0   \n",
      "9                         3.0                        4.0   \n",
      "\n",
      "   hdpData.homeInfo.livingArea  \n",
      "0                       1391.0  \n",
      "1                       1040.0  \n",
      "2                       1291.0  \n",
      "3                       1792.0  \n",
      "4                        717.0  \n",
      "5                       4397.0  \n",
      "6                       1101.0  \n",
      "7                       1721.0  \n",
      "8                        840.0  \n",
      "9                       2626.0  \n"
     ]
    }
   ],
   "source": [
    "df = pd.read_csv('data/houseData.csv')\n",
    "\n",
    "df_new = df.drop(columns = 'imgSrc') # or df.drop(columns='col2')\n",
    "print(df_new.iloc[1,2])\n",
    "import re \n",
    "\n",
    "match = r\"-\\b\\d{5}\\b/\"\n",
    "i=1\n",
    "def identif(url):\n",
    "    try:\n",
    "        x = re.search(match, url)\n",
    "        df_new.at['i','detailUrl'] = w.group()\n",
    "    except Exception:\n",
    "        print(Exception)\n",
    "        pass\n",
    "        \n",
    "for n in df_new.detailUrl:\n",
    "    identif(n)\n",
    "    i+=1\n",
    "    if i>10:\n",
    "        break\n",
    "\n",
    "print(df_new.head(10))\n",
    "    "
   ]
  },
  {
   "cell_type": "markdown",
   "metadata": {},
   "source": [
    "# 3. Explore the Data\n",
    "Gain insights into the data you have from step 2, making sure to identify any bias"
   ]
  },
  {
   "cell_type": "code",
   "execution_count": null,
   "metadata": {},
   "outputs": [],
   "source": []
  },
  {
   "cell_type": "markdown",
   "metadata": {},
   "source": [
    "# 4.Prepare the Data\n",
    "\n",
    "\n",
    "Apply any data transformations and explain what and why\n"
   ]
  },
  {
   "cell_type": "code",
   "execution_count": null,
   "metadata": {},
   "outputs": [],
   "source": []
  },
  {
   "cell_type": "markdown",
   "metadata": {},
   "source": [
    "# 5. Model the data\n",
    "Using selected ML models, experment with your choices and describe your findings. Finish by selecting a Model to continue with\n"
   ]
  },
  {
   "cell_type": "code",
   "execution_count": null,
   "metadata": {},
   "outputs": [],
   "source": []
  },
  {
   "cell_type": "markdown",
   "metadata": {},
   "source": [
    "# 6. Fine Tune the Model\n",
    "\n",
    "With the select model descibe the steps taken to acheve the best rusults possiable \n"
   ]
  },
  {
   "cell_type": "code",
   "execution_count": null,
   "metadata": {},
   "outputs": [],
   "source": []
  },
  {
   "cell_type": "markdown",
   "metadata": {},
   "source": [
    "# 7. Present\n",
    "In a customer faceing Document provide summery of finding and detail approach taken\n"
   ]
  },
  {
   "cell_type": "code",
   "execution_count": null,
   "metadata": {},
   "outputs": [],
   "source": []
  },
  {
   "cell_type": "markdown",
   "metadata": {},
   "source": [
    "# 8. Launch the Model System\n",
    "Define your production run code, This should be self susficent and require only your model pramaters \n"
   ]
  },
  {
   "cell_type": "code",
   "execution_count": null,
   "metadata": {},
   "outputs": [],
   "source": [
    "def infrence(prams):\n",
    "    results = m.run(prams)\n",
    "    return results "
   ]
  }
 ],
 "metadata": {
  "kernelspec": {
   "display_name": "Python 3 (ipykernel)",
   "language": "python",
   "name": "python3"
  },
  "language_info": {
   "codemirror_mode": {
    "name": "ipython",
    "version": 3
   },
   "file_extension": ".py",
   "mimetype": "text/x-python",
   "name": "python",
   "nbconvert_exporter": "python",
   "pygments_lexer": "ipython3",
   "version": "3.10.10"
  },
  "toc-autonumbering": false,
  "toc-showmarkdowntxt": false
 },
 "nbformat": 4,
 "nbformat_minor": 4
}
