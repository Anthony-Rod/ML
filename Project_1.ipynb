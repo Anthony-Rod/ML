{
 "cells": [
  {
   "cell_type": "code",
   "execution_count": 2,
   "metadata": {
    "_cell_guid": "b1076dfc-b9ad-4769-8c92-a6c4dae69d19",
    "_uuid": "8f2839f25d086af736a60e9eeb907d3b93b6e0e5"
   },
   "outputs": [],
   "source": [
    "# This Python 3 environment comes with many helpful analytics libraries installed\n",
    "# It is defined by the kaggle/python Docker image: https://github.com/kaggle/docker-python\n",
    "# For example, here's several helpful packages to load\n",
    "\n",
    "\n",
    "# Input data files are available in the read-only \"../input/\" directory\n",
    "# For example, running this (by clicking run or pressing Shift+Enter) will list all files under the input directory\n",
    "\n",
    "import os\n",
    "\n",
    "for dirname, _, filenames in os.walk(\"./\"):\n",
    "    for filename in filenames:\n",
    "        print(os.path.join(dirname, filename))\n",
    "\n",
    "# You can write up to 20GB to the current directory (/kaggle/working/) that gets preserved as output when you create a version using \"Save & Run All\"\n",
    "# You can also write temporary files to /kaggle/temp/, but they won't be saved outside of the current session"
   ]
  },
  {
   "cell_type": "markdown",
   "metadata": {},
   "source": [
    "# 1. Frame the problem\n",
    "Using the customer description, Define the problem your trying to solve in your own words (remember this is not technial but must be specific so the customer understands the project"
   ]
  },
  {
   "cell_type": "markdown",
   "metadata": {},
   "source": [
    "After the events of the titanic, data about the passangers which unfortunately became victims of the accident were released, including (of course over 100 years later) whether or not they survived. This data can be utilized in order to predict the survivability of these passengers or a test passenger using known data about said passenger. This prediction model can be used to further determine what would be key in finding out what is most significant in a person's survival in this extreme circumstance."
   ]
  },
  {
   "cell_type": "markdown",
   "metadata": {},
   "source": [
    "# 2. Get the Data \n",
    "Define how you recieved the data (provided, gathered..)"
   ]
  },
  {
   "cell_type": "code",
   "execution_count": 14,
   "metadata": {},
   "outputs": [],
   "source": [
    "import pandas as pd\n",
    "import time\n",
    "import matplotlib.pyplot as plt\n",
    "from sklearn import tree\n",
    "from sklearn.tree import DecisionTreeClassifier\n",
    "from sklearn.metrics import accuracy_score\n",
    "from sklearn.model_selection import train_test_split"
   ]
  },
  {
   "cell_type": "markdown",
   "metadata": {},
   "source": [
    "The data was provided by Kaggle.com and their titanic ML competition, which contains two main csv files, with the main difference between the training and testing files in whether or not they included the \"Survived\" column. Both files contain information about the passengers, ranging from age, to sex, to amount of relatives or social class."
   ]
  },
  {
   "cell_type": "code",
   "execution_count": 15,
   "metadata": {},
   "outputs": [],
   "source": [
    "df = pd.read_csv('data/titanic.csv')"
   ]
  },
  {
   "cell_type": "markdown",
   "metadata": {},
   "source": [
    "# 3. Explore the Data\n",
    "Gain insights into the data you have from step 2, making sure to identify any bias"
   ]
  },
  {
   "cell_type": "markdown",
   "metadata": {},
   "source": [
    "It seems that some bias exists, starting with the fact that richer people, women, and children may have survived more often than other groups, which may make our model prioritize those groups when deciding survivability. I will try and test on Sex, Age, and Social Class features."
   ]
  },
  {
   "cell_type": "code",
   "execution_count": 16,
   "metadata": {},
   "outputs": [
    {
     "data": {
      "image/png": "[encoded data removed]",
      "text/plain": [
       "<Figure size 800x600 with 1 Axes>"
      ]
     },
     "metadata": {},
     "output_type": "display_data"
    }
   ],
   "source": [
    "survival_count = df.groupby([df['Age']<=18, 'Survived']).size().unstack(fill_value=0)\n",
    "\n",
    "\n",
    "survival_count.plot(kind='bar', stacked=False, figsize=(8, 6))\n",
    "plt.xlabel('SibSp')\n",
    "plt.ylabel('Number of People')\n",
    "plt.title('Survival Count by SibSp!')\n",
    "plt.xticks(rotation=0)\n",
    "\n",
    "\n",
    "plt.show()"
   ]
  },
  {
   "cell_type": "markdown",
   "metadata": {},
   "source": [
    "# 4.Prepare the Data\n",
    "\n",
    "\n",
    "Apply any data transformations and explain what and why\n"
   ]
  },
  {
   "cell_type": "markdown",
   "metadata": {},
   "source": [
    "I will map sex to 0 for male and 1 for female because computers do not use names. I will also start training by moving the three features into sets."
   ]
  },
  {
   "cell_type": "code",
   "execution_count": 33,
   "metadata": {},
   "outputs": [],
   "source": [
    "X = df[['Sex', 'Age', 'Fare']].copy()\n",
    "y = df['Survived']\n",
    "\n",
    "X_clean = X.dropna().copy()\n",
    "y_clean = y.loc[X_clean.index]\n",
    "\n",
    "sex_mapping = {'male': 0, 'female': 1}\n",
    "X_clean.loc[:, 'Sex'] = X_clean['Sex'].map(sex_mapping)\n",
    "\n",
    "X_train, X_test, y_train, y_test = train_test_split(X_clean, y_clean, test_size=0.4, random_state=42)"
   ]
  },
  {
   "cell_type": "markdown",
   "metadata": {},
   "source": [
    "# 5. Model the data\n",
    "Using selected ML models, experment with your choices and describe your findings. Finish by selecting a Model to continue with\n",
    "Decision Tree, cause I thought of it first and it seems to do well with categorical variables like these."
   ]
  },
  {
   "cell_type": "markdown",
   "metadata": {},
   "source": [
    "Using this model, I tested with this template, trying different combinations of classifiers to see which model had the highest accuracy."
   ]
  },
  {
   "cell_type": "code",
   "execution_count": 34,
   "metadata": {},
   "outputs": [
    {
     "name": "stdout",
     "output_type": "stream",
     "text": [
      "Test Accuracy: 0.731\n",
      "\n",
      "Feature Importance:\n",
      "Sex: 0.340\n",
      "Age: 0.303\n",
      "Fare: 0.357\n"
     ]
    }
   ],
   "source": [
    "model = DecisionTreeClassifier(random_state=42)\n",
    "model.fit(X_train, y_train)\n",
    "\n",
    "# calculate accuracy\n",
    "test_accuracy = accuracy_score(y_test, model.predict(X_test))\n",
    "print(f\"Test Accuracy: {test_accuracy:.3f}\")\n",
    "\n",
    "# feature importance\n",
    "feature_names = ['Sex', 'Age', 'Fare']\n",
    "importances = model.feature_importances_\n",
    "\n",
    "print(\"\\nFeature Importance:\")\n",
    "for name, importance in zip(feature_names, importances):\n",
    "    print(f\"{name}: {importance:.3f}\")"
   ]
  },
  {
   "cell_type": "markdown",
   "metadata": {},
   "source": [
    "# 6. Fine Tune the Model\n",
    "\n",
    "With the select model descibe the steps taken to acheve the best rusults possiable \n"
   ]
  },
  {
   "cell_type": "markdown",
   "metadata": {},
   "source": [
    "1. Collect data from csv file\n",
    "2. Filter through data to see patterns\n",
    "3. Note the variables with the largest effect on the results, Age, Fare, Sex\n",
    "4. Create a copy of the data\n",
    "5. Create a training set of the data and begin training the model to make the decision tree\n",
    "6. Add or change data features to increase accuracy."
   ]
  },
  {
   "cell_type": "markdown",
   "metadata": {},
   "source": [
    "# 7. Present\n",
    "In a customer faceing Document provide summery of finding and detail approach taken\n"
   ]
  },
  {
   "cell_type": "markdown",
   "metadata": {},
   "source": [
    "The analysis of Titanic passenger data revealed that gender, fare, and age were the key factors influencing survival. Women and children—particularly those in first and second class—had significantly higher survival rates than men in third class. I tested the decision tree model on this, and after research can see that it is somewhat accurate, though perhaps utilizing another model or perhaps adjusting parameters more could lead to a better outcome."
   ]
  },
  {
   "cell_type": "markdown",
   "metadata": {},
   "source": [
    "# 8. Launch the Model System\n",
    "Define your production run code, This should be self susficent and require only your model pramaters \n"
   ]
  },
  {
   "cell_type": "code",
   "execution_count": 37,
   "metadata": {},
   "outputs": [
    {
     "data": {
      "image/png": "[encoded data removed]",
      "text/plain": [
       "<Figure size 800x600 with 1 Axes>"
      ]
     },
     "metadata": {},
     "output_type": "display_data"
    },
    {
     "name": "stdout",
     "output_type": "stream",
     "text": [
      "Test Accuracy: 0.731\n",
      "\n",
      "Feature Importance:\n",
      "Sex: 0.340\n",
      "Age: 0.303\n",
      "Fare: 0.357\n"
     ]
    }
   ],
   "source": [
    "import pandas as pd\n",
    "import time\n",
    "import matplotlib.pyplot as plt\n",
    "from sklearn import tree\n",
    "from sklearn.tree import DecisionTreeClassifier\n",
    "from sklearn.metrics import accuracy_score\n",
    "from sklearn.model_selection import train_test_split\n",
    "\n",
    "def titanic_test():\n",
    "\n",
    "    df = pd.read_csv('data/titanic.csv')\n",
    "    survival_count = df.groupby([df['Age']<=18, 'Survived']).size().unstack(fill_value=0)\n",
    "\n",
    "    \n",
    "    survival_count.plot(kind='bar', stacked=False, figsize=(8, 6))\n",
    "    plt.xlabel('SibSp')\n",
    "    plt.ylabel('Number of People')\n",
    "    plt.title('Survival Count by SibSp!')\n",
    "    plt.xticks(rotation=0)\n",
    "    \n",
    "    \n",
    "    plt.show()\n",
    "    X = df[['Sex', 'Age', 'Fare']].copy()\n",
    "    y = df['Survived']\n",
    "    \n",
    "    X_clean = X.dropna().copy()\n",
    "    y_clean = y.loc[X_clean.index]\n",
    "    \n",
    "    sex_mapping = {'male': 0, 'female': 1}\n",
    "    X_clean.loc[:, 'Sex'] = X_clean['Sex'].map(sex_mapping)\n",
    "    \n",
    "    X_train, X_test, y_train, y_test = train_test_split(X_clean, y_clean, test_size=0.4, random_state=42)\n",
    "    model = DecisionTreeClassifier(random_state=42)\n",
    "    model.fit(X_train, y_train)\n",
    "    \n",
    "    # calculate accuracy\n",
    "    test_accuracy = accuracy_score(y_test, model.predict(X_test))\n",
    "    print(f\"Test Accuracy: {test_accuracy:.3f}\")\n",
    "    \n",
    "    # feature importance\n",
    "    feature_names = ['Sex', 'Age', 'Fare']\n",
    "    importances = model.feature_importances_\n",
    "    \n",
    "    print(\"\\nFeature Importance:\")\n",
    "    for name, importance in zip(feature_names, importances):\n",
    "        print(f\"{name}: {importance:.3f}\")\n",
    "\n",
    "titanic_test()"
   ]
  }
 ],
 "metadata": {
  "kernelspec": {
   "display_name": "Python 3 (ipykernel)",
   "language": "python",
   "name": "python3"
  },
  "language_info": {
   "codemirror_mode": {
    "name": "ipython",
    "version": 3
   },
   "file_extension": ".py",
   "mimetype": "text/x-python",
   "name": "python",
   "nbconvert_exporter": "python",
   "pygments_lexer": "ipython3",
   "version": "3.10.10"
  },
  "toc-autonumbering": false,
  "toc-showmarkdowntxt": false
 },
 "nbformat": 4,
 "nbformat_minor": 4
}
